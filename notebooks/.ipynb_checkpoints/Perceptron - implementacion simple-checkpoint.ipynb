{
 "cells": [
  {
   "cell_type": "markdown",
   "metadata": {},
   "source": [
    "## Perceptron (línea a línea)"
   ]
  },
  {
   "cell_type": "code",
   "execution_count": 1,
   "metadata": {},
   "outputs": [],
   "source": [
    "import numpy as np"
   ]
  },
  {
   "cell_type": "markdown",
   "metadata": {},
   "source": [
    "### Definiendo la Clase Perceptron\n",
    "[Thomas Countz](https://gist.github.com/Thomascountz/77670d1fd621364bc41a7094563a7b9c)\n"
   ]
  },
  {
   "cell_type": "code",
   "execution_count": 2,
   "metadata": {},
   "outputs": [],
   "source": [
    "# Definiendo la Clase Perceptron\n",
    "class Perceptron(object):\n",
    "    def __init__(self,no_of_inputs, threshold=100, learning_rate=0.01):\n",
    "        self.threshold = threshold\n",
    "        self.learning_rate = learning_rate\n",
    "        self.weights = np.zeros(no_of_inputs+1)\n",
    "        \n",
    "    def predict(self, inputs):\n",
    "        summation = np.dot(inputs, self.weights[1:]) + self.weights[0]\n",
    "        if summation > 0:\n",
    "            activation = 1\n",
    "        else:\n",
    "            activation = 0\n",
    "        return activation\n",
    "    \n",
    "    def train(self, training_inputs, labels):\n",
    "        for _ in range(self.threshold):\n",
    "            for inputs, label in zip(training_inputs, labels):\n",
    "                prediction = self.predict(inputs)\n",
    "                self.weights[1:] += self.learning_rate * (label - prediction) * inputs\n",
    "                self.weights[0] += self.learning_rate * (label - prediction) \n",
    "                "
   ]
  },
  {
   "cell_type": "markdown",
   "metadata": {},
   "source": [
    "## Usando la Clase Perceptron para la operación lógica AND"
   ]
  },
  {
   "cell_type": "code",
   "execution_count": 3,
   "metadata": {},
   "outputs": [],
   "source": [
    "# Definiendo la matriz característica\n",
    "training_inputs = []\n",
    "training_inputs.append(np.array([1,1]))\n",
    "training_inputs.append(np.array([1,0]))\n",
    "training_inputs.append(np.array([0,1]))\n",
    "training_inputs.append(np.array([0,0]))\n",
    "\n",
    "# Definiendo el vector target\n",
    "labels = np.array([1,0,0,0])"
   ]
  },
  {
   "cell_type": "code",
   "execution_count": 4,
   "metadata": {},
   "outputs": [],
   "source": [
    "# instanciando la Clase Perceptron para dos entradas y entrenando para obtener el modelo\n",
    "perceptron = Perceptron(2)\n",
    "perceptron.train(training_inputs, labels)"
   ]
  },
  {
   "cell_type": "code",
   "execution_count": 5,
   "metadata": {},
   "outputs": [
    {
     "data": {
      "text/plain": [
       "1"
      ]
     },
     "execution_count": 5,
     "metadata": {},
     "output_type": "execute_result"
    }
   ],
   "source": [
    "# utilizando el modelo obtenido para realizar la predicción\n",
    "inputs = np.array([1,1])\n",
    "perceptron.predict(inputs)"
   ]
  },
  {
   "cell_type": "code",
   "execution_count": 6,
   "metadata": {},
   "outputs": [
    {
     "data": {
      "text/plain": [
       "0"
      ]
     },
     "execution_count": 6,
     "metadata": {},
     "output_type": "execute_result"
    }
   ],
   "source": [
    "inputs = np.array([1,0])\n",
    "perceptron.predict(inputs)"
   ]
  },
  {
   "cell_type": "code",
   "execution_count": 7,
   "metadata": {},
   "outputs": [
    {
     "data": {
      "text/plain": [
       "0"
      ]
     },
     "execution_count": 7,
     "metadata": {},
     "output_type": "execute_result"
    }
   ],
   "source": [
    "inputs = np.array([0,1])\n",
    "perceptron.predict(inputs)"
   ]
  },
  {
   "cell_type": "code",
   "execution_count": 8,
   "metadata": {},
   "outputs": [
    {
     "data": {
      "text/plain": [
       "0"
      ]
     },
     "execution_count": 8,
     "metadata": {},
     "output_type": "execute_result"
    }
   ],
   "source": [
    "inputs = np.array([0,0])\n",
    "perceptron.predict(inputs)"
   ]
  },
  {
   "cell_type": "markdown",
   "metadata": {},
   "source": [
    "### Clasificando animales"
   ]
  },
  {
   "cell_type": "markdown",
   "metadata": {},
   "source": [
    "Queremos clasificar perros y cerdos.\n",
    "\n",
    "Definimos tres características con los que representaremos el proceso de\n",
    "catalogación: \n",
    "- x1: tiene pelo corto? (1: Si, 0: No)\n",
    "- x2: tiene patas cortas? (1: Si, 0: No)\n",
    "- x3: hace au au? (1: Si, 0: No)\n",
    "\n",
    "Definimos el target como:\n",
    "- 1: Cerdo\n",
    "- 0: Perro"
   ]
  },
  {
   "cell_type": "code",
   "execution_count": 9,
   "metadata": {},
   "outputs": [],
   "source": [
    "# Representamos 6 animales con los siguientes valores \n",
    "# Cargando los datos de la matriz característica\n",
    "animales = []\n",
    "animales.append(np.array([1,1,0]))\n",
    "animales.append(np.array([0,1,1]))\n",
    "animales.append(np.array([0,1,0]))\n",
    "animales.append(np.array([0,1,1]))\n",
    "animales.append(np.array([1,1,1]))\n",
    "animales.append(np.array([0,0,1]))\n",
    "\n",
    "# Cargando el vector target (3 cerdos y 3 perros)\n",
    "target = np.array([1,1,1,0,0,0])"
   ]
  },
  {
   "cell_type": "code",
   "execution_count": 10,
   "metadata": {},
   "outputs": [],
   "source": [
    "# instanciando la Clase Perceptron para tres características \n",
    "# y luego entrenar con los datos cargados para obtener el modelo\n",
    "perceptron1 = Perceptron(3)\n",
    "perceptron1.train(animales, target)"
   ]
  },
  {
   "cell_type": "code",
   "execution_count": 14,
   "metadata": {},
   "outputs": [
    {
     "name": "stdout",
     "output_type": "stream",
     "text": [
      "0\n",
      "1\n",
      "0\n"
     ]
    }
   ],
   "source": [
    "# Test con varios animales \n",
    "misterio1 = np.array([1,1,1])\n",
    "misterio2 = np.array([1,1,0])\n",
    "misterio3 = np.array([0,1,1])\n",
    "\n",
    "# Utilizamos el modelo para realizar la predicción\n",
    "print(perceptron1.predict(misterio1))\n",
    "print(perceptron1.predict(misterio2))\n",
    "print(perceptron1.predict(misterio3))"
   ]
  },
  {
   "cell_type": "code",
   "execution_count": 13,
   "metadata": {},
   "outputs": [
    {
     "name": "stdout",
     "output_type": "stream",
     "text": [
      "33.33333333333333\n"
     ]
    }
   ],
   "source": [
    "# La prediccion del estimador fue [perro, cerdo, perro]\n",
    "# Siendo su real clasificacion [0,1,1] => [perro, cerdo, cerdo]\n",
    "# Podemos decir que el modelo erró 1 de 3\n",
    "print(1/3*100) # 33%\n",
    "clases = [0,1,1]"
   ]
  }
 ],
 "metadata": {
  "kernelspec": {
   "display_name": "Python 3",
   "language": "python",
   "name": "python3"
  },
  "language_info": {
   "codemirror_mode": {
    "name": "ipython",
    "version": 3
   },
   "file_extension": ".py",
   "mimetype": "text/x-python",
   "name": "python",
   "nbconvert_exporter": "python",
   "pygments_lexer": "ipython3",
   "version": "3.7.4"
  }
 },
 "nbformat": 4,
 "nbformat_minor": 2
}
